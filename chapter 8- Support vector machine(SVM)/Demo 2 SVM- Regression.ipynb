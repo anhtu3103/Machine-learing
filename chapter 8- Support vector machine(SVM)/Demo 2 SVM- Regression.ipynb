{
 "cells": [
  {
   "cell_type": "code",
   "execution_count": 12,
   "metadata": {},
   "outputs": [],
   "source": [
    "import matplotlib.pyplot as plt\n",
    "from sklearn import datasets\n",
    "import numpy as np\n",
    "from sklearn.metrics import mean_squared_error"
   ]
  },
  {
   "cell_type": "code",
   "execution_count": 16,
   "metadata": {},
   "outputs": [],
   "source": [
    "X = np.array([[0.2313566 ], [0.35230223], [0.45908406], [0.48294093],\n",
    "       [0.58074839], [0.62907617], [0.65463391], [0.66907165],\n",
    "       [0.72477906], [0.84710095], [0.86498594], [0.90941156],\n",
    "       [1.13304331], [1.25504584], [1.44700167], [1.74536094], \n",
    "       [1.79142627], [1.83170011], [1.88076225], [2.0105496 ],\n",
    "       [2.26131001], [2.29476084], [2.41590987], [2.47337582],\n",
    "       [2.6651377 ], [2.68692155], [2.99062486], [3.43585631],\n",
    "       [3.50038771], [4.11040781], [4.22895473], [4.31548218],\n",
    "       [4.39430932], [4.44893063], [4.51696106], [4.65979544],\n",
    "       [4.73270839], [4.89174978], [4.89780429], [4.93440963]])\n",
    "y = np.array([ 0.96101284,  0.2415537 ,  0.25846608,  0.36762907,  0.48615592,\n",
    "       -0.6262452 ,  0.64025271,  0.65477594,  0.8324045 ,  0.92479558,\n",
    "        2.02978015,  0.99651699,  0.99683044,  0.99995752,  0.97941008,\n",
    "        0.00497547,  0.96920264,  0.92358315,  0.91018836,  0.90276912,\n",
    "        2.14437202,  0.59680595,  0.51094802,  0.38943511,  0.27458801,\n",
    "        0.86368324, -0.26469069, -0.28272056, -0.36471195, -0.41187662,\n",
    "       -1.32386553, -0.75770017, -0.83174207, -0.90513234, -0.95911322,\n",
    "       -1.55498376, -0.99902373, -0.9992663 , -0.99879695, -0.96345159])"
   ]
  },
  {
   "cell_type": "code",
   "execution_count": 17,
   "metadata": {},
   "outputs": [],
   "source": [
    "from sklearn.svm import SVR"
   ]
  },
  {
   "cell_type": "code",
   "execution_count": 18,
   "metadata": {},
   "outputs": [],
   "source": [
    "#fit regression\n",
    "svr_rbf = SVR(kernel = 'rbf', C= 100, gamma =0.1)\n",
    "svr_lin = SVR(kernel = 'linear', C= 100)\n",
    "svr_poly = SVR(kernel = 'poly', C= 100, degree=3)\n"
   ]
  },
  {
   "cell_type": "code",
   "execution_count": 19,
   "metadata": {},
   "outputs": [
    {
     "name": "stdout",
     "output_type": "stream",
     "text": [
      "MSE(rbf):  0.20128812463308768\n"
     ]
    }
   ],
   "source": [
    "#mo hinh rbf\n",
    "svr_rbf.fit(X,y)\n",
    "yhat_rbf = svr_rbf.predict(X)\n",
    "print(\"MSE(rbf): \", mean_squared_error(y, yhat_rbf))"
   ]
  },
  {
   "cell_type": "code",
   "execution_count": 20,
   "metadata": {},
   "outputs": [
    {
     "name": "stdout",
     "output_type": "stream",
     "text": [
      "MSE(linear):  0.3433296523982475\n"
     ]
    }
   ],
   "source": [
    "#mo hinh linear\n",
    "svr_lin.fit(X,y)\n",
    "yhat_lin = svr_lin.predict(X)\n",
    "print(\"MSE(linear): \", mean_squared_error(y, yhat_lin))"
   ]
  },
  {
   "cell_type": "code",
   "execution_count": 21,
   "metadata": {},
   "outputs": [
    {
     "name": "stdout",
     "output_type": "stream",
     "text": [
      "MSE(poly):  0.24986816821514454\n"
     ]
    }
   ],
   "source": [
    "#mo hinh poly\n",
    "svr_poly.fit(X,y)\n",
    "yhat_poly = svr_poly.predict(X)\n",
    "print(\"MSE(poly): \", mean_squared_error(y, yhat_poly))"
   ]
  },
  {
   "cell_type": "code",
   "execution_count": 22,
   "metadata": {},
   "outputs": [
    {
     "data": {
      "text/plain": [
       "Text(0.5, 1.0, 'Poly')"
      ]
     },
     "execution_count": 22,
     "metadata": {},
     "output_type": "execute_result"
    },
    {
     "data": {
      "image/png": "[encoded data removed]",
      "text/plain": [
       "<Figure size 864x360 with 3 Axes>"
      ]
     },
     "metadata": {
      "needs_background": "light"
     },
     "output_type": "display_data"
    }
   ],
   "source": [
    "#visualization\n",
    "plt.figure(figsize=(12,5))\n",
    "plt.subplot(1,3,1)\n",
    "plt.plot(X, yhat_rbf, color='r')\n",
    "plt.scatter(X,y)\n",
    "plt.title(\"RBF\")\n",
    "plt.subplot(1,3,2)\n",
    "plt.plot(X, yhat_lin, color='g')\n",
    "plt.scatter(X,y)\n",
    "plt.title(\"Linear\")\n",
    "plt.subplot(1,3,3)\n",
    "plt.plot(X, yhat_poly, color='b')\n",
    "plt.scatter(X,y)\n",
    "plt.title(\"Poly\")"
   ]
  },
  {
   "cell_type": "code",
   "execution_count": null,
   "metadata": {},
   "outputs": [],
   "source": []
  }
 ],
 "metadata": {
  "kernelspec": {
   "display_name": "Python 3",
   "language": "python",
   "name": "python3"
  },
  "language_info": {
   "codemirror_mode": {
    "name": "ipython",
    "version": 3
   },
   "file_extension": ".py",
   "mimetype": "text/x-python",
   "name": "python",
   "nbconvert_exporter": "python",
   "pygments_lexer": "ipython3",
   "version": "3.6.8"
  }
 },
 "nbformat": 4,
 "nbformat_minor": 4
}
